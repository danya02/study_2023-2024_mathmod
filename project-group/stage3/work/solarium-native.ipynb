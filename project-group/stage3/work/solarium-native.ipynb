{
 "cells": [
  {
   "cell_type": "code",
   "execution_count": 1,
   "metadata": {},
   "outputs": [],
   "source": [
    "using Random"
   ]
  },
  {
   "cell_type": "code",
   "execution_count": 2,
   "metadata": {},
   "outputs": [
    {
     "data": {
      "text/plain": [
       "glue (generic function with 1 method)"
      ]
     },
     "execution_count": 2,
     "metadata": {},
     "output_type": "execute_result"
    }
   ],
   "source": [
    "mutable struct Particle\n",
    "    position\n",
    "    velocity\n",
    "    mass::Float64\n",
    "    radius::Float64\n",
    "end\n",
    "\n",
    "function glue(a::Particle, b::Particle)::Particle\n",
    "    Particle(\n",
    "        (a.position*a.mass + b.position*b.mass)/(a.mass+b.mass),\n",
    "        (a.velocity*a.mass + b.velocity*b.mass)/(a.mass+b.mass),\n",
    "        a.mass+b.mass,\n",
    "        cbrt(a.radius^3 + b.radius^3)\n",
    "    )\n",
    "end"
   ]
  },
  {
   "cell_type": "code",
   "execution_count": 3,
   "metadata": {},
   "outputs": [
    {
     "data": {
      "text/plain": [
       "Particle([-0.45050597463622155, -0.49230110304102687], [0.903086972770722, -0.8264171547376031], 0.3015673422823981, 0.5657232432023237)"
      ]
     },
     "execution_count": 3,
     "metadata": {},
     "output_type": "execute_result"
    }
   ],
   "source": [
    "max_mass = 1\n",
    "max_radius = 1\n",
    "function get_random_particle(radius_max, angular_speed)::Particle\n",
    "    radius = sqrt(Random.rand()) * radius_max\n",
    "    angle = Random.rand() * 2 * pi\n",
    "    x = radius * cos(angle)\n",
    "    y = radius * sin(angle)\n",
    "    vx = -y * angular_speed * (radius_max / radius)^(3/2)\n",
    "    vy = x * angular_speed * (radius_max / radius)^(3/2)\n",
    "    Particle([x,y], [vx,vy], Random.rand()*max_mass, Random.rand()*max_radius)\n",
    "end\n",
    "get_random_particle(1, 1)"
   ]
  },
  {
   "cell_type": "code",
   "execution_count": 4,
   "metadata": {},
   "outputs": [
    {
     "data": {
      "text/plain": [
       "normalize (generic function with 1 method)"
      ]
     },
     "execution_count": 4,
     "metadata": {},
     "output_type": "execute_result"
    }
   ],
   "source": [
    "function magnitude(vec)\n",
    "    sqrt(vec[1]^2 + vec[2]^2)\n",
    "end\n",
    "function normalize(vec)\n",
    "    vec / magnitude(vec)\n",
    "end\n"
   ]
  },
  {
   "cell_type": "code",
   "execution_count": 5,
   "metadata": {},
   "outputs": [
    {
     "data": {
      "text/plain": [
       "apply_particle_forces (generic function with 1 method)"
      ]
     },
     "execution_count": 5,
     "metadata": {},
     "output_type": "execute_result"
    }
   ],
   "source": [
    "universal_gravitation_const = 6.674 * 10^(-11)\n",
    "function apply_particle_forces(particles, dt)\n",
    "    for src_part in particles\n",
    "        force = [0.0, 0.0]\n",
    "        for dst_part in particles\n",
    "            if src_part === dst_part\n",
    "                continue\n",
    "            end\n",
    "            extra_force = normalize(src_part.position - dst_part.position) * universal_gravitation_const * (src_part.mass * dst_part.mass) / magnitude(src_part.position - dst_part.position)\n",
    "            force += extra_force\n",
    "        end\n",
    "        src_part.velocity += force * dt\n",
    "    end\n",
    "end"
   ]
  },
  {
   "cell_type": "code",
   "execution_count": 6,
   "metadata": {},
   "outputs": [
    {
     "data": {
      "text/plain": [
       "step_particles (generic function with 1 method)"
      ]
     },
     "execution_count": 6,
     "metadata": {},
     "output_type": "execute_result"
    }
   ],
   "source": [
    "function step_particles(particles, dt)\n",
    "    for p in particles\n",
    "        p.position += p.velocity * dt\n",
    "    end\n",
    "end"
   ]
  },
  {
   "cell_type": "code",
   "execution_count": 7,
   "metadata": {},
   "outputs": [
    {
     "name": "stdout",
     "output_type": "stream",
     "text": [
      "Particle([1.2148525153965244, 7.696327508702047], [-108.70421125737305, 34.01574999396292], 0.36281014851317783, 0.2818148651183422)\n",
      "Particle([0.1278104028228093, 8.03648500864175], [-108.70421125737151, 34.01574999397034], 0.36281014851317783, 0.2818148651183422)\n",
      "Particle([-0.9592317097509049, 8.376642508581527], [-108.70421125737141, 34.01574999397775], 0.36281014851317783, 0.2818148651183422)\n",
      "Particle([-2.0462738223246273, 8.71680000852137], [-108.70421125737225, 34.01574999398427], 0.36281014851317783, 0.2818148651183422)\n",
      "Particle([-3.133315934898364, 9.05695750846127], [-108.70421125737369, 34.01574999399011], 0.36281014851317783, 0.2818148651183422)\n",
      "Particle([-4.220358047472121, 9.397115008401217], [-108.7042112573757, 34.01574999399469], 0.36281014851317783, 0.2818148651183422)\n",
      "Particle([-5.3074001600458995, 9.737272508341198], [-108.70421125737786, 34.01574999399797], 0.36281014851317783, 0.2818148651183422)\n",
      "Particle([-6.394442272619683, 10.077430008281196], [-108.70421125737832, 34.01574999399985], 0.36281014851317783, 0.2818148651183422)\n",
      "Particle([-7.481484385193465, 10.417587508221192], [-108.70421125737818, 34.01574999399961], 0.36281014851317783, 0.2818148651183422)\n",
      "Particle([-8.56852649776724, 10.757745008161168], [-108.70421125737745, 34.01574999399759], 0.36281014851317783, 0.2818148651183422)\n",
      "Particle([-9.65556861034102, 11.097902508101107], [-108.704211257378, 34.015749993993936], 0.36281014851317783, 0.2818148651183422)\n",
      "Particle([-10.742610722914844, 11.438060008041072], [-108.70421125738247, 34.01574999399646], 0.36281014851317783, 0.2818148651183422)\n",
      "Particle([-11.829652835488705, 11.778217507981086], [-108.70421125738625, 34.01574999400136], 0.36281014851317783, 0.2818148651183422)\n",
      "Particle([-12.916694948062599, 12.118375007921138], [-108.7042112573893, 34.01574999400516], 0.36281014851317783, 0.2818148651183422)\n",
      "Particle([-14.00373706063652, 12.45853250786122], [-108.70421125739216, 34.01574999400822], 0.36281014851317783, 0.2818148651183422)\n",
      "Particle([-15.09077917321047, 12.798690007801328], [-108.70421125739492, 34.015749994010804], 0.36281014851317783, 0.2818148651183422)\n",
      "Particle([-16.177821285784447, 13.13884750774146], [-108.70421125739757, 34.01574999401307], 0.36281014851317783, 0.2818148651183422)\n",
      "Particle([-17.264863398358447, 13.47900500768161], [-108.70421125740016, 34.0157499940151], 0.36281014851317783, 0.2818148651183422)\n",
      "Particle([-18.351905510932472, 13.81916250762178], [-108.70421125740266, 34.01574999401695], 0.36281014851317783, 0.2818148651183422)\n",
      "Particle([-19.43894762350652, 14.159320007561966], [-108.70421125740508, 34.01574999401865], 0.36281014851317783, 0.2818148651183422)\n",
      "Particle([-20.525989736080597, 14.499477507502169], [-108.70421125740742, 34.01574999402022], 0.36281014851317783, 0.2818148651183422)\n",
      "Particle([-21.613031848654693, 14.839635007442386], [-108.7042112574097, 34.01574999402169], 0.36281014851317783, 0.2818148651183422)\n",
      "Particle([-22.70007396122881, 15.179792507382617], [-108.7042112574119, 34.01574999402307], 0.36281014851317783, 0.2818148651183422)\n",
      "Particle([-23.78711607380295, 15.51995000732286], [-108.70421125741403, 34.01574999402437], 0.36281014851317783, 0.2818148651183422)\n",
      "Particle([-24.87415818637711, 15.860107507263116], [-108.7042112574161, 34.0157499940256], 0.36281014851317783, 0.2818148651183422)\n",
      "Particle([-25.96120029895129, 16.200265007203384], [-108.70421125741812, 34.01574999402677], 0.36281014851317783, 0.2818148651183422)\n",
      "Particle([-27.04824241152549, 16.540422507143663], [-108.70421125742007, 34.015749994027885], 0.36281014851317783, 0.2818148651183422)\n",
      "Particle([-28.13528452409971, 16.880580007083953], [-108.70421125742196, 34.01574999402895], 0.36281014851317783, 0.2818148651183422)\n",
      "Particle([-29.222326636673948, 17.220737507024253], [-108.70421125742381, 34.015749994029974], 0.36281014851317783, 0.2818148651183422)\n",
      "Particle([-30.309368749248204, 17.560895006964564], [-108.7042112574256, 34.015749994030955], 0.36281014851317783, 0.2818148651183422)\n",
      "Particle([-31.396410861822478, 17.901052506904882], [-108.70421125742735, 34.0157499940319], 0.36281014851317783, 0.2818148651183422)\n",
      "Particle([-32.48345297439677, 18.24121000684521], [-108.70421125742904, 34.01574999403281], 0.36281014851317783, 0.2818148651183422)\n",
      "Particle([-33.57049508697108, 18.581367506785547], [-108.70421125743069, 34.01574999403368], 0.36281014851317783, 0.2818148651183422)\n",
      "Particle([-34.6575371995454, 18.921525006725894], [-108.70421125743229, 34.01574999403453], 0.36281014851317783, 0.2818148651183422)\n"
     ]
    },
    {
     "ename": "LoadError",
     "evalue": "InterruptException:",
     "output_type": "error",
     "traceback": [
      "InterruptException:",
      "",
      "Stacktrace:",
      " [1] magnitude(vec::Vector{Float64})",
      "   @ Main ./In[4]:1",
      " [2] apply_particle_forces(particles::Vector{Particle}, dt::Float64)",
      "   @ Main ./In[5]:9",
      " [3] top-level scope",
      "   @ ./In[7]:4"
     ]
    }
   ],
   "source": [
    "particles = [get_random_particle(10, 10) for _ in 1:1000]\n",
    "dt = 0.01\n",
    "for i in 1:100\n",
    "    apply_particle_forces(particles, dt)\n",
    "    step_particles(particles, dt)\n",
    "    println(particles[1])\n",
    "end"
   ]
  },
  {
   "cell_type": "code",
   "execution_count": null,
   "metadata": {},
   "outputs": [],
   "source": []
  },
  {
   "cell_type": "code",
   "execution_count": null,
   "metadata": {},
   "outputs": [],
   "source": []
  }
 ],
 "metadata": {
  "kernelspec": {
   "display_name": "Julia 1.10.1",
   "language": "julia",
   "name": "julia-1.10"
  },
  "language_info": {
   "file_extension": ".jl",
   "mimetype": "application/julia",
   "name": "julia",
   "version": "1.10.1"
  }
 },
 "nbformat": 4,
 "nbformat_minor": 2
}
